{
  "metadata": {
    "kernelspec": {
      "name": "python",
      "display_name": "Python (Pyodide)",
      "language": "python"
    },
    "language_info": {
      "codemirror_mode": {
        "name": "python",
        "version": 3
      },
      "file_extension": ".py",
      "mimetype": "text/x-python",
      "name": "python",
      "nbconvert_exporter": "python",
      "pygments_lexer": "ipython3",
      "version": "3.8"
    }
  },
  "nbformat_minor": 5,
  "nbformat": 4,
  "cells": [
    {
      "id": "a39f5a9d-7834-4d59-a576-e43a5dee84d9",
      "cell_type": "code",
      "source": "import pandas as pd\n\n\ndf = pd.read_csv(\"styles.csv\")\ndf = df.dropna(axis=1, how='all')  \nprint(\"🧺 Styles Dataset:\")\nprint(df.head(44447))",
      "metadata": {
        "trusted": true
      },
      "outputs": [
        {
          "name": "stdout",
          "output_type": "stream",
          "text": "🧺 Styles Dataset:\n          id gender masterCategory subCategory            articleType  \\\n0      15970    Men        Apparel     Topwear                 Shirts   \n1      39386    Men        Apparel  Bottomwear                  Jeans   \n2      59263  Women    Accessories     Watches                Watches   \n3      21379    Men        Apparel  Bottomwear            Track Pants   \n4      53759    Men        Apparel     Topwear                Tshirts   \n...      ...    ...            ...         ...                    ...   \n44441  17036    Men       Footwear       Shoes           Casual Shoes   \n44442   6461    Men       Footwear  Flip Flops             Flip Flops   \n44443  18842    Men        Apparel     Topwear                Tshirts   \n44444  46694  Women  Personal Care   Fragrance  Perfume and Body Mist   \n44445  51623  Women    Accessories     Watches                Watches   \n\n      baseColour  season    year   usage  \\\n0      Navy Blue    Fall  2011.0  Casual   \n1           Blue  Summer  2012.0  Casual   \n2         Silver  Winter  2016.0  Casual   \n3          Black    Fall  2011.0  Casual   \n4           Grey  Summer  2012.0  Casual   \n...          ...     ...     ...     ...   \n44441      White  Summer  2013.0  Casual   \n44442        Red  Summer  2011.0  Casual   \n44443       Blue    Fall  2011.0  Casual   \n44444       Blue  Spring  2017.0  Casual   \n44445       Pink  Winter  2016.0  Casual   \n\n                                    productDisplayName Unnamed: 10 Unnamed: 11  \n0                     Turtle Check Men Navy Blue Shirt         NaN         NaN  \n1                   Peter England Men Party Blue Jeans         NaN         NaN  \n2                             Titan Women Silver Watch         NaN         NaN  \n3        Manchester United Men Solid Black Track Pants         NaN         NaN  \n4                                Puma Men Grey T-shirt         NaN         NaN  \n...                                                ...         ...         ...  \n44441                        Gas Men Caddy Casual Shoe         NaN         NaN  \n44442               Lotto Men's Soccer Track Flip Flop         NaN         NaN  \n44443             Puma Men Graphic Stellar Blue Tshirt         NaN         NaN  \n44444                   Rasasi Women Blue Lady Perfume         NaN         NaN  \n44445  Fossil Women Pink Dial Chronograph Watch ES3050         NaN         NaN  \n\n[44446 rows x 12 columns]\n"
        }
      ],
      "execution_count": 1
    },
    {
      "id": "1272a312-0c5b-4caa-8511-bdf53d2d048d",
      "cell_type": "code",
      "source": "chatbot_df = pd.read_csv(\"ClothesShopChatbotDataset.csv\")\nchatbot_df = chatbot_df.dropna(axis=1, how='all')\nprint(\"\\n🗨️ Chatbot Dataset:\")\nprint(chatbot_df.head(1186))",
      "metadata": {
        "trusted": true
      },
      "outputs": [
        {
          "name": "stdout",
          "output_type": "stream",
          "text": "\n🗨️ Chatbot Dataset:\n                                                Context  \\\n0     You can cancel your order within 8 hours of pl...   \n1     You can cancel your order within 8 hours of pl...   \n2     You can cancel your order within 8 hours of pl...   \n3     You can cancel your order within 8 hours of pl...   \n4     You can cancel your order within 8 hours of pl...   \n...                                                 ...   \n1180  Outfit, Clothes for Movie Night In\\r\\n\\r\\n- Co...   \n1181  Outfit, Clothes for Movie Night In\\r\\n\\r\\n- Co...   \n1182  Outfit, Clothes for Movie Night In\\r\\n\\r\\n- Co...   \n1183  Outfit, Clothes for Movie Night In\\r\\n\\r\\n- Co...   \n1184  Outfit, Clothes for Movie Night In\\r\\n\\r\\n- Co...   \n\n                                               Question  \\\n0                How long do I have to cancel my order?   \n1     Is providing a reason for cancellation necessary?   \n2        Can I cancel an order after the 8-hour window?   \n3           I accidentally canceled my order. What now?   \n4       Do you charge any fees for order cancellations?   \n...                                                 ...   \n1180  How do I style oversized hoodies for a cozy ni...   \n1181     Can I wear joggers with a hoodie for lounging?   \n1182   Any tips for picking the right size fuzzy socks?   \n1183  Can I wear an oversized hoodie with pajama bot...   \n1184                  Do you have joggers with pockets?   \n\n                                                 Answer  \n0     Orders can be canceled within 8 hours. Follow ...  \n1     Giving a reason is optional, but it helps us i...  \n2     Unfortunately, cancellations are only accepted...  \n3     Reach out to our support team at aut.clothes.c...  \n4     No fees for cancellations within 8 hours. It's...  \n...                                                 ...  \n1180  Just pair them with your favorite joggers and ...  \n1181  Absolutely! Joggers and a hoodie are the perfe...  \n1182  Make sure they fit snugly without being too ti...  \n1183  Totally! It's a comfy and cozy combo perfect f...  \n1184  Yes, we do! Some of our joggers come with pock...  \n\n[1185 rows x 3 columns]\n"
        }
      ],
      "execution_count": 2
    },
    {
      "id": "9f5dbaa9-735c-4d4e-90b1-8872be6fc03a",
      "cell_type": "code",
      "source": "chatbot_df = pd.read_csv(\"ClothesShopChatbotDataset.csv\")\n\ngap_data = [\n    {\n        \"Question\": \"I want to return this dress and get a refund.\",\n        \"Context\": \"refund_request\",\n        \"Answer\": \"Sure, please provide your order ID to initiate a refund.\"\n    },\n    {\n        \"Question\": \"This is taking too long. I want to speak to a manager.\",\n        \"Context\": \"escalation\",\n        \"Answer\": \"I'm escalating this issue to our senior support team.\"\n    },\n    {\n        \"Question\": \"Where can I leave feedback about my purchase?\",\n        \"Context\": \"feedback_request\",\n        \"Answer\": \"You can leave feedback after delivery via the app or click the feedback link sent to your email.\"\n    },\n    {\n        \"Question\": \"Has my support ticket been closed?\",\n        \"Context\": \"ticket_status\",\n        \"Answer\": \"Your support ticket was successfully resolved and closed. Let us know if you need more help!\"\n    },\n   \n    {\n        \"Question\": \"What is your return policy?\",\n        \"Context\": \"general_inquiry\",\n        \"Answer\": \"You can return any product within 7 days of delivery.\"\n         }, \n    {\n        \"Question\": \"How do I get a refund for my item?\",\n        \"Context\": \"refund_request\",\n        \"Answer\": \"To get a refund, go to your Orders section, select the item, and tap on 'Return or Refund'. It only takes a few steps!\"\n    },\n    {\n        \"Question\": \"Can I get a refund without contacting support?\",\n        \"Context\": \"refund_request\",\n        \"Answer\": \"Yes! You can start a return directly through the app or website—no need to talk to support.\"\n    },\n    {\n        \"Question\": \"When will I get my refund?\",\n        \"Context\": \"refund_timeline\",\n        \"Answer\": \"Once we receive your returned item, the refund is processed within 3–5 business days.\"\n    },\n    {\n        \"Question\": \"Do you charge for return shipping?\",\n        \"Context\": \"refund_shipping\",\n        \"Answer\": \"Return shipping is completely free for most products. We’ll provide a prepaid label during return initiation.\"\n    },\n    {\n        \"Question\": \"What is your refund policy?\",\n         \"Context\": \"refund_policy\",\n        \"Answer\": \"You can return any unused product within 7 days of delivery for a full refund. Items must be in their original condition with tags intact.\"\n    },\n    {\n        \"Question\": \"How do I know if my item is eligible for a refund?\",\n        \"Context\": \"refund_eligibility\",\n        \"Answer\": \"Refunds are available on items returned within 7 days, in unused condition, and not part of final sale or hygiene-restricted categories.\"\n    },\n     {\n        \"Question\": \"What happens if I miss the return window?\",\n        \"Context\": \"refund_policy\",\n        \"Answer\": \"If the 7-day window is missed, unfortunately, the refund may not be possible. Still, you can reach out via the Help Center for special cases.\"\n    },\n    {\n        \"Question\": \"Can I exchange instead of refunding?\",\n        \"Context\": \"exchange_request\",\n        \"Answer\": \"Yes! During the return process, simply choose 'Exchange' and select your preferred size or color—super easy!\"\n    },\n{\n    \"Question\": \"I paid already. Why is my order not confirmed?\",\n    \"Context\": \"payment_unconfirmed\",\n    \"Answer\": \"Sorry about that! If the amount was deducted but your order isn’t confirmed, don’t worry. Payments can take up to 30 minutes to reflect. Please wait a bit and refresh your orders page. If it still isn’t updated after an hour, contact support with your payment ID or transaction number.\"\n},\n{\n    \"Question\": \"It’s been over 30 minutes, but my order is still not confirmed.\",\n    \"Context\": \"payment_escalation\",\n    \"Answer\": \"Thanks for your patience! Since it’s been more than 30 minutes and your order is still not confirmed, please share your payment ID or transaction reference. Our support team will verify and update you shortly. You can also upload a payment screenshot if needed.\"\n} \n\n   \n]\n\n\ngaps_df = pd.DataFrame(gap_data)\n\nchatbot_df_augmented = pd.concat([chatbot_df, gaps_df], ignore_index=True)\n\nchatbot_df_augmented.to_csv(\"ClothesShopChatbotDataset_augmented.csv\", index=False)\nprint(\"✅ Gaps added and saved as 'ClothesShopChatbotDataset_augmented.csv'\")",
      "metadata": {
        "trusted": true
      },
      "outputs": [
        {
          "name": "stdout",
          "output_type": "stream",
          "text": "✅ Gaps added and saved as 'ClothesShopChatbotDataset_augmented.csv'\n"
        }
      ],
      "execution_count": 15
    },
    {
      "id": "c5532979-953c-4574-95cd-a079347661e4",
      "cell_type": "code",
      "source": "chatbot_df_augmented.tail(10)\n",
      "metadata": {
        "trusted": true
      },
      "outputs": [
        {
          "execution_count": 4,
          "output_type": "execute_result",
          "data": {
            "text/plain": "                  Context                                           Question  \\\n1190       refund_request                 How do I get a refund for my item?   \n1191       refund_request     Can I get a refund without contacting support?   \n1192      refund_timeline                         When will I get my refund?   \n1193      refund_shipping                 Do you charge for return shipping?   \n1194        refund_policy                        What is your refund policy?   \n1195   refund_eligibility  How do I know if my item is eligible for a ref...   \n1196        refund_policy          What happens if I miss the return window?   \n1197     exchange_request               Can I exchange instead of refunding?   \n1198  payment_unconfirmed     I paid already. Why is my order not confirmed?   \n1199   payment_escalation  It’s been over 30 minutes, but my order is sti...   \n\n                                                 Answer  \n1190  To get a refund, go to your Orders section, se...  \n1191  Yes! You can start a return directly through t...  \n1192  Once we receive your returned item, the refund...  \n1193  Return shipping is completely free for most pr...  \n1194  You can return any unused product within 7 day...  \n1195  Refunds are available on items returned within...  \n1196  If the 7-day window is missed, unfortunately, ...  \n1197  Yes! During the return process, simply choose ...  \n1198  Sorry about that! If the amount was deducted b...  \n1199  Thanks for your patience! Since it’s been more...  ",
            "text/html": "<div>\n<style scoped>\n    .dataframe tbody tr th:only-of-type {\n        vertical-align: middle;\n    }\n\n    .dataframe tbody tr th {\n        vertical-align: top;\n    }\n\n    .dataframe thead th {\n        text-align: right;\n    }\n</style>\n<table border=\"1\" class=\"dataframe\">\n  <thead>\n    <tr style=\"text-align: right;\">\n      <th></th>\n      <th>Context</th>\n      <th>Question</th>\n      <th>Answer</th>\n    </tr>\n  </thead>\n  <tbody>\n    <tr>\n      <th>1190</th>\n      <td>refund_request</td>\n      <td>How do I get a refund for my item?</td>\n      <td>To get a refund, go to your Orders section, se...</td>\n    </tr>\n    <tr>\n      <th>1191</th>\n      <td>refund_request</td>\n      <td>Can I get a refund without contacting support?</td>\n      <td>Yes! You can start a return directly through t...</td>\n    </tr>\n    <tr>\n      <th>1192</th>\n      <td>refund_timeline</td>\n      <td>When will I get my refund?</td>\n      <td>Once we receive your returned item, the refund...</td>\n    </tr>\n    <tr>\n      <th>1193</th>\n      <td>refund_shipping</td>\n      <td>Do you charge for return shipping?</td>\n      <td>Return shipping is completely free for most pr...</td>\n    </tr>\n    <tr>\n      <th>1194</th>\n      <td>refund_policy</td>\n      <td>What is your refund policy?</td>\n      <td>You can return any unused product within 7 day...</td>\n    </tr>\n    <tr>\n      <th>1195</th>\n      <td>refund_eligibility</td>\n      <td>How do I know if my item is eligible for a ref...</td>\n      <td>Refunds are available on items returned within...</td>\n    </tr>\n    <tr>\n      <th>1196</th>\n      <td>refund_policy</td>\n      <td>What happens if I miss the return window?</td>\n      <td>If the 7-day window is missed, unfortunately, ...</td>\n    </tr>\n    <tr>\n      <th>1197</th>\n      <td>exchange_request</td>\n      <td>Can I exchange instead of refunding?</td>\n      <td>Yes! During the return process, simply choose ...</td>\n    </tr>\n    <tr>\n      <th>1198</th>\n      <td>payment_unconfirmed</td>\n      <td>I paid already. Why is my order not confirmed?</td>\n      <td>Sorry about that! If the amount was deducted b...</td>\n    </tr>\n    <tr>\n      <th>1199</th>\n      <td>payment_escalation</td>\n      <td>It’s been over 30 minutes, but my order is sti...</td>\n      <td>Thanks for your patience! Since it’s been more...</td>\n    </tr>\n  </tbody>\n</table>\n</div>"
          },
          "metadata": {}
        }
      ],
      "execution_count": 4
    },
    {
      "id": "43bb1ebc-e0f7-4a69-97a9-16b0c3959099",
      "cell_type": "code",
      "source": "import pandas as pd\n\n\ndf = pd.read_csv(\"ClothesShopChatbotDataset_augmented.csv\")\n\ndf.head(1205)",
      "metadata": {
        "trusted": true
      },
      "outputs": [
        {
          "execution_count": 16,
          "output_type": "execute_result",
          "data": {
            "text/plain": "                                                Context  \\\n0     You can cancel your order within 8 hours of pl...   \n1     You can cancel your order within 8 hours of pl...   \n2     You can cancel your order within 8 hours of pl...   \n3     You can cancel your order within 8 hours of pl...   \n4     You can cancel your order within 8 hours of pl...   \n...                                                 ...   \n1195                                 refund_eligibility   \n1196                                      refund_policy   \n1197                                   exchange_request   \n1198                                payment_unconfirmed   \n1199                                 payment_escalation   \n\n                                               Question  \\\n0                How long do I have to cancel my order?   \n1     Is providing a reason for cancellation necessary?   \n2        Can I cancel an order after the 8-hour window?   \n3           I accidentally canceled my order. What now?   \n4       Do you charge any fees for order cancellations?   \n...                                                 ...   \n1195  How do I know if my item is eligible for a ref...   \n1196          What happens if I miss the return window?   \n1197               Can I exchange instead of refunding?   \n1198     I paid already. Why is my order not confirmed?   \n1199  It’s been over 30 minutes, but my order is sti...   \n\n                                                 Answer  \n0     Orders can be canceled within 8 hours. Follow ...  \n1     Giving a reason is optional, but it helps us i...  \n2     Unfortunately, cancellations are only accepted...  \n3     Reach out to our support team at aut.clothes.c...  \n4     No fees for cancellations within 8 hours. It's...  \n...                                                 ...  \n1195  Refunds are available on items returned within...  \n1196  If the 7-day window is missed, unfortunately, ...  \n1197  Yes! During the return process, simply choose ...  \n1198  Sorry about that! If the amount was deducted b...  \n1199  Thanks for your patience! Since it’s been more...  \n\n[1200 rows x 3 columns]",
            "text/html": "<div>\n<style scoped>\n    .dataframe tbody tr th:only-of-type {\n        vertical-align: middle;\n    }\n\n    .dataframe tbody tr th {\n        vertical-align: top;\n    }\n\n    .dataframe thead th {\n        text-align: right;\n    }\n</style>\n<table border=\"1\" class=\"dataframe\">\n  <thead>\n    <tr style=\"text-align: right;\">\n      <th></th>\n      <th>Context</th>\n      <th>Question</th>\n      <th>Answer</th>\n    </tr>\n  </thead>\n  <tbody>\n    <tr>\n      <th>0</th>\n      <td>You can cancel your order within 8 hours of pl...</td>\n      <td>How long do I have to cancel my order?</td>\n      <td>Orders can be canceled within 8 hours. Follow ...</td>\n    </tr>\n    <tr>\n      <th>1</th>\n      <td>You can cancel your order within 8 hours of pl...</td>\n      <td>Is providing a reason for cancellation necessary?</td>\n      <td>Giving a reason is optional, but it helps us i...</td>\n    </tr>\n    <tr>\n      <th>2</th>\n      <td>You can cancel your order within 8 hours of pl...</td>\n      <td>Can I cancel an order after the 8-hour window?</td>\n      <td>Unfortunately, cancellations are only accepted...</td>\n    </tr>\n    <tr>\n      <th>3</th>\n      <td>You can cancel your order within 8 hours of pl...</td>\n      <td>I accidentally canceled my order. What now?</td>\n      <td>Reach out to our support team at aut.clothes.c...</td>\n    </tr>\n    <tr>\n      <th>4</th>\n      <td>You can cancel your order within 8 hours of pl...</td>\n      <td>Do you charge any fees for order cancellations?</td>\n      <td>No fees for cancellations within 8 hours. It's...</td>\n    </tr>\n    <tr>\n      <th>...</th>\n      <td>...</td>\n      <td>...</td>\n      <td>...</td>\n    </tr>\n    <tr>\n      <th>1195</th>\n      <td>refund_eligibility</td>\n      <td>How do I know if my item is eligible for a ref...</td>\n      <td>Refunds are available on items returned within...</td>\n    </tr>\n    <tr>\n      <th>1196</th>\n      <td>refund_policy</td>\n      <td>What happens if I miss the return window?</td>\n      <td>If the 7-day window is missed, unfortunately, ...</td>\n    </tr>\n    <tr>\n      <th>1197</th>\n      <td>exchange_request</td>\n      <td>Can I exchange instead of refunding?</td>\n      <td>Yes! During the return process, simply choose ...</td>\n    </tr>\n    <tr>\n      <th>1198</th>\n      <td>payment_unconfirmed</td>\n      <td>I paid already. Why is my order not confirmed?</td>\n      <td>Sorry about that! If the amount was deducted b...</td>\n    </tr>\n    <tr>\n      <th>1199</th>\n      <td>payment_escalation</td>\n      <td>It’s been over 30 minutes, but my order is sti...</td>\n      <td>Thanks for your patience! Since it’s been more...</td>\n    </tr>\n  </tbody>\n</table>\n<p>1200 rows × 3 columns</p>\n</div>"
          },
          "metadata": {}
        }
      ],
      "execution_count": 16
    },
    {
      "id": "8b913f74-8627-44a2-8d87-3c35d989a731",
      "cell_type": "code",
      "source": "import pandas as pd\nfrom sklearn.feature_extraction.text import TfidfVectorizer\nfrom sklearn.metrics.pairwise import cosine_similarity\n\n\ndef load_csv_safely(filename, required_columns):\n    try:\n        df = pd.read_csv(filename)\n        for col in required_columns:\n            if col not in df.columns:\n                raise ValueError(f\"Missing expected column '{col}' in {filename}\")\n        return df\n    except FileNotFoundError:\n        print(f\"File not found: {filename}\")\n        return pd.DataFrame(columns=required_columns)\n\nclothshop_df = load_csv_safely('ClothesShopChatbotDataset.csv', ['Question', 'Answer'])\naugmented_df = load_csv_safely('ClothesShopChatbotDataset_augmented.csv', ['Question', 'Answer'])\n\nstyles_df = pd.read_csv('styles.csv')  \n\n\nqa_df = pd.concat([clothshop_df, augmented_df], ignore_index=True)\n\n\nvectorizer = TfidfVectorizer()\ntfidf_matrix = vectorizer.fit_transform(qa_df['Question'])\n\ndef get_qa_response(user_input):\n    user_tfidf = vectorizer.transform([user_input])\n    similarity_scores = cosine_similarity(user_tfidf, tfidf_matrix)\n    max_idx = similarity_scores.argmax()\n    max_score = similarity_scores[0, max_idx]\n    if max_score > 0.3:\n        return qa_df.iloc[max_idx]['Answer']\n    return None\n\ndef get_style_tips(user_input):\n    recommendations = styles_df[\n        styles_df['productDisplayName'].str.contains(user_input, case=False, na=False)\n        | styles_df['articleType'].str.contains(user_input, case=False, na=False)\n        | styles_df['baseColour'].str.contains(user_input, case=False, na=False)\n    ]\n    if not recommendations.empty:\n        tips = recommendations['productDisplayName'].head(3).tolist()\n        return \"Here are some style ideas:\\n- \" + \"\\n- \".join(tips)\n    return None\n\ndef chatbot_reply(user_input):\n    qa_answer = get_qa_response(user_input)\n    style_tip = get_style_tips(user_input)\n\n    response = \"\"\n    if qa_answer:\n        response += f\"{qa_answer}\\n\"\n    if style_tip:\n        response += f\"\\n{style_tip}\"\n    if not response:\n        response = \"Sorry, I couldn't find an answer or a style suggestion.\"\n    return response\n\n\nwhile True:\n    user_input = input(\"You: \")\n    if user_input.lower() == 'exit':\n        break\n    print(\"Bot:\", chatbot_reply(user_input))\n\n\n\n\n",
      "metadata": {
        "trusted": true
      },
      "outputs": [
        {
          "output_type": "stream",
          "name": "stdin",
          "text": "You:  grey track pants\n"
        },
        {
          "name": "stdout",
          "output_type": "stream",
          "text": "Bot: Find a variety of pants and baggy styles in the \"Pants/Baggy\" section of our Directory. Explore the latest trends!\n\nHere are some style ideas:\n- Proline Men Charcoal Grey Track Pants\n- Nike Men Pintuck Grey Track Pants\n- Puma Men Solid Grey Track Pants\n"
        },
        {
          "output_type": "stream",
          "name": "stdin",
          "text": "You:  order not confirmed\n"
        },
        {
          "name": "stdout",
          "output_type": "stream",
          "text": "Bot: Sorry about that! If the amount was deducted but your order isn’t confirmed, don’t worry. Payments can take up to 30 minutes to reflect. Please wait a bit and refresh your orders page. If it still isn’t updated after an hour, contact support with your payment ID or transaction number.\n\n"
        },
        {
          "output_type": "stream",
          "name": "stdin",
          "text": "You:  red top\n"
        },
        {
          "name": "stdout",
          "output_type": "stream",
          "text": "Bot: Absolutely! Pair it with some shorts or a skirt for a beachy-casual look. It's all about that beach vibe!\n\nHere are some style ideas:\n- Gini and Jony Girls Red Top\n- s.Oliver Women Printed Red Top\n- Elle Women Multi Coloured Top\n"
        },
        {
          "output_type": "stream",
          "name": "stdin",
          "text": "You:  joggers\n"
        },
        {
          "name": "stdout",
          "output_type": "stream",
          "text": "Bot: Soft and stretchy fabrics like cotton or fleece are perfect for joggers, providing comfort and flexibility during movie time.\n\n"
        },
        {
          "output_type": "stream",
          "name": "stdin",
          "text": "You:  suggestions for accessories\n"
        },
        {
          "name": "stdout",
          "output_type": "stream",
          "text": "Bot: Sunglasses and a crossbody bag are perfect for keeping your hands free while exploring the park. Stay stylish and practical!\n\n"
        },
        {
          "output_type": "stream",
          "name": "stdin",
          "text": "You:  in movie\n"
        },
        {
          "name": "stdout",
          "output_type": "stream",
          "text": "Bot: Heather gray, soft beige, dusty rose, and slate blue are perfect for a cozy movie night vibe.\n\n"
        },
        {
          "output_type": "stream",
          "name": "stdin",
          "text": "You:  accessories for movie night\n"
        },
        {
          "name": "stdout",
          "output_type": "stream",
          "text": "Bot: Just pair them with your favorite oversized hoodie and fuzzy socks for the ultimate cozy movie night ensemble.\n\n"
        }
      ],
      "execution_count": null
    },
    {
      "id": "244e19f5-0072-4a17-900c-8b6f0b9abedf",
      "cell_type": "code",
      "source": "",
      "metadata": {
        "trusted": true
      },
      "outputs": [],
      "execution_count": null
    }
  ]
}