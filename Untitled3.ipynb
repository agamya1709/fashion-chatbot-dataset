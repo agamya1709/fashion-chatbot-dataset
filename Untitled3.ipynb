{
  "metadata": {
    "kernelspec": {
      "name": "python",
      "display_name": "Python (Pyodide)",
      "language": "python"
    },
    "language_info": {
      "codemirror_mode": {
        "name": "python",
        "version": 3
      },
      "file_extension": ".py",
      "mimetype": "text/x-python",
      "name": "python",
      "nbconvert_exporter": "python",
      "pygments_lexer": "ipython3",
      "version": "3.8"
    }
  },
  "nbformat_minor": 5,
  "nbformat": 4,
  "cells": [
    {
      "id": "7fec2ada-f1c3-4544-8a38-d58022b14ecc",
      "cell_type": "code",
      "source": "import pandas as pd\n\n# Load and clean the styles data\ndf = pd.read_csv(\"styles.csv\")\ndf = df.dropna(axis=1, how='all')   # remove empty columns\nprint(\"🧺 Styles Dataset:\")\nprint(df.head(44447))\n\n\n\n",
      "metadata": {
        "trusted": true
      },
      "outputs": [
        {
          "name": "stdout",
          "output_type": "stream",
          "text": "🧺 Styles Dataset:\n          id gender masterCategory subCategory            articleType  \\\n0      15970    Men        Apparel     Topwear                 Shirts   \n1      39386    Men        Apparel  Bottomwear                  Jeans   \n2      59263  Women    Accessories     Watches                Watches   \n3      21379    Men        Apparel  Bottomwear            Track Pants   \n4      53759    Men        Apparel     Topwear                Tshirts   \n...      ...    ...            ...         ...                    ...   \n44441  17036    Men       Footwear       Shoes           Casual Shoes   \n44442   6461    Men       Footwear  Flip Flops             Flip Flops   \n44443  18842    Men        Apparel     Topwear                Tshirts   \n44444  46694  Women  Personal Care   Fragrance  Perfume and Body Mist   \n44445  51623  Women    Accessories     Watches                Watches   \n\n      baseColour  season    year   usage  \\\n0      Navy Blue    Fall  2011.0  Casual   \n1           Blue  Summer  2012.0  Casual   \n2         Silver  Winter  2016.0  Casual   \n3          Black    Fall  2011.0  Casual   \n4           Grey  Summer  2012.0  Casual   \n...          ...     ...     ...     ...   \n44441      White  Summer  2013.0  Casual   \n44442        Red  Summer  2011.0  Casual   \n44443       Blue    Fall  2011.0  Casual   \n44444       Blue  Spring  2017.0  Casual   \n44445       Pink  Winter  2016.0  Casual   \n\n                                    productDisplayName Unnamed: 10 Unnamed: 11  \n0                     Turtle Check Men Navy Blue Shirt         NaN         NaN  \n1                   Peter England Men Party Blue Jeans         NaN         NaN  \n2                             Titan Women Silver Watch         NaN         NaN  \n3        Manchester United Men Solid Black Track Pants         NaN         NaN  \n4                                Puma Men Grey T-shirt         NaN         NaN  \n...                                                ...         ...         ...  \n44441                        Gas Men Caddy Casual Shoe         NaN         NaN  \n44442               Lotto Men's Soccer Track Flip Flop         NaN         NaN  \n44443             Puma Men Graphic Stellar Blue Tshirt         NaN         NaN  \n44444                   Rasasi Women Blue Lady Perfume         NaN         NaN  \n44445  Fossil Women Pink Dial Chronograph Watch ES3050         NaN         NaN  \n\n[44446 rows x 12 columns]\n"
        }
      ],
      "execution_count": 14
    },
    {
      "id": "4560b407-c435-4f89-90b3-d5a4785f543a",
      "cell_type": "code",
      "source": "chatbot_df = pd.read_csv(\"ClothesShopChatbotDataset.csv\")\nchatbot_df = chatbot_df.dropna(axis=1, how='all')\nprint(\"\\n🗨️ Chatbot Dataset:\")\nprint(chatbot_df.head(1186))\n",
      "metadata": {
        "trusted": true
      },
      "outputs": [
        {
          "name": "stdout",
          "output_type": "stream",
          "text": "\n🗨️ Chatbot Dataset:\n                                                Context  \\\n0     You can cancel your order within 8 hours of pl...   \n1     You can cancel your order within 8 hours of pl...   \n2     You can cancel your order within 8 hours of pl...   \n3     You can cancel your order within 8 hours of pl...   \n4     You can cancel your order within 8 hours of pl...   \n...                                                 ...   \n1180  Outfit, Clothes for Movie Night In\\r\\n\\r\\n- Co...   \n1181  Outfit, Clothes for Movie Night In\\r\\n\\r\\n- Co...   \n1182  Outfit, Clothes for Movie Night In\\r\\n\\r\\n- Co...   \n1183  Outfit, Clothes for Movie Night In\\r\\n\\r\\n- Co...   \n1184  Outfit, Clothes for Movie Night In\\r\\n\\r\\n- Co...   \n\n                                               Question  \\\n0                How long do I have to cancel my order?   \n1     Is providing a reason for cancellation necessary?   \n2        Can I cancel an order after the 8-hour window?   \n3           I accidentally canceled my order. What now?   \n4       Do you charge any fees for order cancellations?   \n...                                                 ...   \n1180  How do I style oversized hoodies for a cozy ni...   \n1181     Can I wear joggers with a hoodie for lounging?   \n1182   Any tips for picking the right size fuzzy socks?   \n1183  Can I wear an oversized hoodie with pajama bot...   \n1184                  Do you have joggers with pockets?   \n\n                                                 Answer  \n0     Orders can be canceled within 8 hours. Follow ...  \n1     Giving a reason is optional, but it helps us i...  \n2     Unfortunately, cancellations are only accepted...  \n3     Reach out to our support team at aut.clothes.c...  \n4     No fees for cancellations within 8 hours. It's...  \n...                                                 ...  \n1180  Just pair them with your favorite joggers and ...  \n1181  Absolutely! Joggers and a hoodie are the perfe...  \n1182  Make sure they fit snugly without being too ti...  \n1183  Totally! It's a comfy and cozy combo perfect f...  \n1184  Yes, we do! Some of our joggers come with pock...  \n\n[1185 rows x 3 columns]\n"
        }
      ],
      "execution_count": 16
    },
    {
      "id": "7a92af9a-161c-43c4-8dbb-79888dd3a518",
      "cell_type": "code",
      "source": "\nchatbot_df = pd.read_csv(\"ClothesShopChatbotDataset.csv\")\n\ngap_data = [\n    {\n        \"utterance\": \"I want to return this dress and get a refund.\",\n        \"intent\": \"refund_request\",\n        \"response\": \"Sure, please provide your order ID to initiate a refund.\"\n    },\n    {\n        \"utterance\": \"This is taking too long. I want to speak to a manager.\",\n        \"intent\": \"escalation\",\n        \"response\": \"I'm escalating this issue to our senior support team.\"\n    },\n    {\n        \"utterance\": \"Where can I leave feedback about my purchase?\",\n        \"intent\": \"feedback_request\",\n        \"response\": \"You can leave feedback after delivery via the app or click the feedback link sent to your email.\"\n    },\n    {\n        \"utterance\": \"Has my support ticket been closed?\",\n        \"intent\": \"ticket_status\",\n        \"response\": \"Your support ticket was successfully resolved and closed. Let us know if you need more help!\"\n    },\n    {\n        \"utterance\": \"Can you suggest a summer dress for me?\",\n        \"intent\": \"style_advice\",\n        \"response\": \"Of course! You might like our light cotton floral dresses – perfect for summer.\"\n    },\n    {\n        \"utterance\": \"What is your return policy?\",\n        \"intent\": \"general_inquiry\",\n        \"response\": \"You can return any product within 7 days of delivery.\"\n    }\n]\n\n\ngaps_df = pd.DataFrame(gap_data)\n\nchatbot_df_augmented = pd.concat([chatbot_df, gaps_df], ignore_index=True)\n\nchatbot_df_augmented.to_csv(\"ClothesShopChatbotDataset_augmented.csv\", index=False)\n\nprint(\"✅ Gaps added and saved as 'ClothesShopChatbotDataset_augmented.csv'\")\n",
      "metadata": {
        "trusted": true
      },
      "outputs": [
        {
          "name": "stdout",
          "output_type": "stream",
          "text": "✅ Gaps added and saved as 'ClothesShopChatbotDataset_augmented.csv'\n"
        }
      ],
      "execution_count": 18
    },
    {
      "id": "9e39e62c-895f-4f51-bb3b-59c2e4960fc8",
      "cell_type": "code",
      "source": "",
      "metadata": {
        "trusted": true
      },
      "outputs": [],
      "execution_count": null
    }
  ]
}